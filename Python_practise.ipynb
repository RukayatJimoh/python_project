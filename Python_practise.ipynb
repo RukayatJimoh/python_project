{
 "cells": [
  {
   "cell_type": "markdown",
   "id": "097fd516-865c-444c-a0d3-33402406fdaa",
   "metadata": {},
   "source": [
    "# Comprehensive Python_Guide"
   ]
  },
  {
   "cell_type": "markdown",
   "id": "03b8e6d0-450c-42b0-93b3-23de63a1f299",
   "metadata": {},
   "source": [
    "## Basic syntax"
   ]
  },
  {
   "cell_type": "markdown",
   "id": "01a6a1de-483c-4160-80d0-28f0646bb0ba",
   "metadata": {},
   "source": [
    "## Data Types"
   ]
  },
  {
   "cell_type": "markdown",
   "id": "3d969f67-8abf-4f7f-8883-de0216cb406a",
   "metadata": {},
   "source": [
    "### 1. Interger(int)"
   ]
  },
  {
   "cell_type": "markdown",
   "id": "23eacfa3-88d4-4b02-a744-7dab1978df4c",
   "metadata": {},
   "source": [
    "A whole number that can either be positive, negative, and do not contain any fractional part "
   ]
  },
  {
   "cell_type": "code",
   "execution_count": 2,
   "id": "7e6972bf-01ec-4610-a3e6-74646ac96c6a",
   "metadata": {},
   "outputs": [],
   "source": [
    "x = 2\n",
    "age = 16\n",
    "Temperature = -16"
   ]
  },
  {
   "cell_type": "markdown",
   "id": "8494eb47-d4e7-4457-ae75-9cdb3c66ccb3",
   "metadata": {},
   "source": [
    "### 2. Float"
   ]
  },
  {
   "cell_type": "markdown",
   "id": "da9e0c08-25d4-4e1d-a68d-9afa76a8195e",
   "metadata": {},
   "source": [
    "A float, or \"floating-point number,\" is a number that has a decimal point. It can represent both positive and negative numbers and is often used for precise calculations.\n",
    "\n",
    "Floats are used when more precision is needed than whole numbers can provide, such as in scientific calculations, measurements, and financial computations.\n",
    "\n"
   ]
  },
  {
   "cell_type": "code",
   "execution_count": 3,
   "id": "6b9687a6-68ae-49bd-a05e-443f943a58db",
   "metadata": {},
   "outputs": [],
   "source": [
    "pi = 3.143\n",
    "weight = 65.3"
   ]
  },
  {
   "cell_type": "markdown",
   "id": "5f24ac9f-70bc-4693-9eb8-20936abfe6b0",
   "metadata": {},
   "source": [
    "### 3. Strings"
   ]
  },
  {
   "cell_type": "markdown",
   "id": "694fd489-ce88-42b8-854f-77a35ad6b89b",
   "metadata": {},
   "source": [
    "A string is a sequence of characters enclosed in single (') or double (\") quotes. Strings are used to represent text data.\n",
    "\n",
    "Strings are used for handling text, such as names, addresses, or any other textual information. They are also used in user interfaces and input/output operations."
   ]
  },
  {
   "cell_type": "code",
   "execution_count": 6,
   "id": "bc8b4186-62ae-4d34-a494-89e502ba1172",
   "metadata": {},
   "outputs": [],
   "source": [
    "Name = \"Bimmybrown\"\n",
    "Sex = \"Female\"\n",
    "School = \"Unity\""
   ]
  },
  {
   "cell_type": "markdown",
   "id": "98d2d5cc-449a-4eb3-83e3-5f5d0ba3150a",
   "metadata": {},
   "source": [
    "#### Common string operations\n",
    "\n",
    "1. addition (+)\n",
    "2. repititive (*)\n",
    "3. Indexing - to access a particular character\n",
    "4. slicing - to extract a substring using slicing syntax [start:end:step]\n",
    "5. len() - to return the length of a string\n",
    "   "
   ]
  },
  {
   "cell_type": "code",
   "execution_count": 10,
   "id": "648cfb0c-39d0-4045-b5cf-e485102cc5d3",
   "metadata": {},
   "outputs": [
    {
     "data": {
      "text/plain": [
       "'Bimmybrown Female Unity'"
      ]
     },
     "execution_count": 10,
     "metadata": {},
     "output_type": "execute_result"
    }
   ],
   "source": [
    "# addition \n",
    "profile = Name+ \" \" +Sex+ \" \"+School\n",
    "profile"
   ]
  },
  {
   "cell_type": "code",
   "execution_count": 16,
   "id": "384861f5-c6af-459e-be1f-1dd1f83c880d",
   "metadata": {},
   "outputs": [
    {
     "data": {
      "text/plain": [
       "'BimmybrownBimmybrownBimmybrown'"
      ]
     },
     "execution_count": 16,
     "metadata": {},
     "output_type": "execute_result"
    }
   ],
   "source": [
    "#repititive\n",
    "name_on_repeat = Name*3\n",
    "name_on_repeat"
   ]
  },
  {
   "cell_type": "code",
   "execution_count": 19,
   "id": "925a04b6-3bf0-4ff0-8a88-9504f9002d12",
   "metadata": {},
   "outputs": [
    {
     "data": {
      "text/plain": [
       "'Bimmybrown Bimmybrown Bimmybrown '"
      ]
     },
     "execution_count": 19,
     "metadata": {},
     "output_type": "execute_result"
    }
   ],
   "source": [
    "#repititive with space\n",
    "name_on_repeat = (Name + \" \") *3\n",
    "name_on_repeat"
   ]
  },
  {
   "cell_type": "code",
   "execution_count": 27,
   "id": "0754f3b4-6d4f-40e8-9429-cc7fca392caa",
   "metadata": {},
   "outputs": [
    {
     "data": {
      "text/plain": [
       "'m'"
      ]
     },
     "execution_count": 27,
     "metadata": {},
     "output_type": "execute_result"
    }
   ],
   "source": [
    "#indexing\n",
    "Name[:3]\n",
    "Name[3]\n",
    "Name[:-3]\n",
    "Name[-3]"
   ]
  },
  {
   "cell_type": "code",
   "execution_count": 34,
   "id": "a3402642-2c05-47f6-8ac9-d1e20ded3573",
   "metadata": {},
   "outputs": [
    {
     "data": {
      "text/plain": [
       "'mmybrow'"
      ]
     },
     "execution_count": 34,
     "metadata": {},
     "output_type": "execute_result"
    }
   ],
   "source": [
    "#slicing \n",
    "Name[2:6] #start:end\n",
    "Name[2:9:2] # start:end:step\n",
    "Name[2:9:1] \n",
    "Name[2:9] "
   ]
  },
  {
   "cell_type": "markdown",
   "id": "49dddbdb-b5b3-4f1c-86a4-7a7ff565cc19",
   "metadata": {},
   "source": [
    "#### Common string methods\n",
    "1. string.upper() #to convert string characters to uppercase\n",
    "2. string.lower() #to convert string characters to lowercase\n",
    "3. string.capitalize() #to capitalize the first letter of a whole string\n",
    "4. string.title() #to capitalize the first letter of each strring\n",
    "5. string.find()  #to find a/some particular characters\n",
    "6. string.replace() #to replace a/some particular characters\n",
    "7. string.strip() #to remove trailing spaces\n",
    "8. string.rstrip() #to remove trailing spaces from the right\n",
    "9. string.lstrip() #to remove trailing spaces from the left\n",
    "10. string.split(\" \", ;)\n",
    "11. \" \".join(string) #to join two strings\n",
    "12. string.startswith()\n",
    "13. string.endswith()"
   ]
  },
  {
   "cell_type": "code",
   "execution_count": 48,
   "id": "ff67f89a-72c5-44e8-bc5c-8a6161a663c3",
   "metadata": {},
   "outputs": [],
   "source": [
    "#variables\n",
    "Name = \"Bimmybrown\"\n",
    "Sex = \"Female\"\n",
    "School = \"Unity\"\n",
    "profile = \"Bimmybrown Female Unity\"\n",
    "name_on_repeat = \"Bimmybrown Bimmybrown Bimmybrown\" "
   ]
  },
  {
   "cell_type": "code",
   "execution_count": 47,
   "id": "df4c8fc9-5554-4f94-8930-3c64c0d82bd5",
   "metadata": {},
   "outputs": [
    {
     "data": {
      "text/plain": [
       "'Bimmybrown Female Unity'"
      ]
     },
     "execution_count": 47,
     "metadata": {},
     "output_type": "execute_result"
    }
   ],
   "source": [
    "#lower,upper, title and capitalize methods\n",
    "Name.lower()\n",
    "Name.upper()\n",
    "Name.capitalize()\n",
    "profile.lower()\n",
    "profile.capitalize()\n",
    "profile.title()"
   ]
  },
  {
   "cell_type": "code",
   "execution_count": 52,
   "id": "f8cc2092-27f6-4e8f-b9af-60d7e10e65a3",
   "metadata": {},
   "outputs": [
    {
     "data": {
      "text/plain": [
       "'Bimmybrowm'"
      ]
     },
     "execution_count": 52,
     "metadata": {},
     "output_type": "execute_result"
    }
   ],
   "source": [
    "#find and replace \n",
    "Name.find(\"m\")\n",
    "Name.replace(\"m\",\"n\")\n",
    "Name.replace(\"n\",\"m\")"
   ]
  },
  {
   "cell_type": "code",
   "execution_count": 62,
   "id": "683bf5f6-6b39-4cda-9972-f21287f8cebb",
   "metadata": {},
   "outputs": [
    {
     "data": {
      "text/plain": [
       "'Unity,Unity'"
      ]
     },
     "execution_count": 62,
     "metadata": {},
     "output_type": "execute_result"
    }
   ],
   "source": [
    "#split and join\n",
    "profile.split(\" \")\n",
    "\",\".join([School]*2)"
   ]
  },
  {
   "cell_type": "code",
   "execution_count": 71,
   "id": "954103d7-cf0d-4473-b2ac-acce3e3f8c8f",
   "metadata": {},
   "outputs": [
    {
     "data": {
      "text/plain": [
       "True"
      ]
     },
     "execution_count": 71,
     "metadata": {},
     "output_type": "execute_result"
    }
   ],
   "source": [
    "#startwith and endwith\n",
    "profile.startswith(\"Bimmybrown\")\n",
    "Name.endswith(\"n\")"
   ]
  },
  {
   "cell_type": "markdown",
   "id": "f7f35f32-ab21-49c3-bf5a-414bc5ec3e8e",
   "metadata": {},
   "source": [
    "#### Methods to check string properties\n",
    "1. string.isalnum()- Returns True if the string contains only alphanumeric characters\n",
    "2. string.isalpha() - Returns True if the string contains only alphabetic characters\n",
    "3. string.isdigit()-  Returns True if the string contains only digits\n",
    "4. string.isspace() - Returns True if the string contains only whitespace characters or empty"
   ]
  },
  {
   "cell_type": "code",
   "execution_count": 37,
   "id": "350d9a40-b649-44cb-98a0-9ac843224caf",
   "metadata": {},
   "outputs": [],
   "source": [
    "#variables\n",
    "passkey=\"abdf3450\"\n",
    "passcode=\"234587\"\n",
    "password=\"wehjuuhbs0\""
   ]
  },
  {
   "cell_type": "code",
   "execution_count": 6,
   "id": "b7abfd00-1267-434d-b734-a9af4310b11b",
   "metadata": {},
   "outputs": [
    {
     "data": {
      "text/plain": [
       "True"
      ]
     },
     "execution_count": 6,
     "metadata": {},
     "output_type": "execute_result"
    }
   ],
   "source": [
    "passkey.isalnum()\n",
    "password.isdigit()\n",
    "password.isalpha()"
   ]
  },
  {
   "cell_type": "markdown",
   "id": "2aa958a8-637e-463e-8f61-27b085ea311f",
   "metadata": {},
   "source": [
    "#### Built in Functions that works with strings\n",
    "1. len(string) - the return the length of character\n",
    "2. str(data) - to convert data type to string\n",
    "3. ord() -return the unicode of a string\n",
    "4. chr() - returns the character value of a unicode\n",
    "5. min() - returns smallest character of a string based on unicode value\n",
    "6. max() - returns largest character of a string based on the unicode value\n",
    "7. sorted() - returns a  sorted list of character\n",
    "8. any() - returns true if atleast one character is non-empty or non-zero\n",
    "9. all() - returns true if all the character is non-empty or non-zero\n",
    "10. enumerate() - returns an iterator of tuples containing an index and the corresponding value\n",
    "11. reversed() - returns an iterator that goes through the string in reverse order\n",
    "12. format() - formats a string by replacing a placeholders with value\n",
    "13. input() - Reads a line of text from user input (useful for interactive programs)"
   ]
  },
  {
   "cell_type": "code",
   "execution_count": 9,
   "id": "f0e72394-00d3-43af-9b16-2a4131f3c235",
   "metadata": {},
   "outputs": [
    {
     "data": {
      "text/plain": [
       "'234587'"
      ]
     },
     "execution_count": 9,
     "metadata": {},
     "output_type": "execute_result"
    }
   ],
   "source": [
    "len(passkey)\n",
    "int(passcode)\n",
    "str(passcode)"
   ]
  },
  {
   "cell_type": "code",
   "execution_count": 19,
   "id": "9dd34bdc-74ba-428c-a668-af7d430c89c9",
   "metadata": {},
   "outputs": [
    {
     "data": {
      "text/plain": [
       "'D'"
      ]
     },
     "execution_count": 19,
     "metadata": {},
     "output_type": "execute_result"
    }
   ],
   "source": [
    "#ord(), chr()\n",
    "ord('D')\n",
    "ord('c')\n",
    "chr(99)\n",
    "chr(68)"
   ]
  },
  {
   "cell_type": "code",
   "execution_count": 23,
   "id": "c733354f-8bb9-4767-a196-e5524da3f0bb",
   "metadata": {},
   "outputs": [],
   "source": [
    "#min(),max()\n",
    "min(password)\n",
    "max(password)"
   ]
  },
  {
   "cell_type": "code",
   "execution_count": 24,
   "id": "5274b122-d38e-460d-b2b4-d70ca864f26e",
   "metadata": {},
   "outputs": [
    {
     "data": {
      "text/plain": [
       "['b', 'e', 'h', 'h', 'j', 's', 'u', 'u', 'w']"
      ]
     },
     "execution_count": 24,
     "metadata": {},
     "output_type": "execute_result"
    }
   ],
   "source": [
    "#sorted\n",
    "sorted(password)\n",
    "sorted(password,reverse=True)"
   ]
  },
  {
   "cell_type": "code",
   "execution_count": 46,
   "id": "be336c3c-7b19-43af-add9-eb6862075fc0",
   "metadata": {},
   "outputs": [
    {
     "data": {
      "text/plain": [
       "<reversed at 0x110dc4250>"
      ]
     },
     "execution_count": 46,
     "metadata": {},
     "output_type": "execute_result"
    }
   ],
   "source": [
    "#reverse\n",
    "reversed(password)\n",
    "''.join(reversed(password))"
   ]
  },
  {
   "cell_type": "code",
   "execution_count": 50,
   "id": "98d87f33-8054-46f5-bdd4-4feff8353619",
   "metadata": {},
   "outputs": [
    {
     "name": "stdout",
     "output_type": "stream",
     "text": [
      "0 w\n",
      "1 e\n",
      "2 h\n",
      "3 j\n",
      "4 u\n",
      "5 u\n",
      "6 h\n",
      "7 b\n",
      "8 s\n",
      "9 0\n"
     ]
    }
   ],
   "source": [
    "#enumerate\n",
    "for index,char in enumerate(password):\n",
    "    print(index,char)\n",
    "    "
   ]
  },
  {
   "cell_type": "code",
   "execution_count": 53,
   "id": "730a1fbd-df78-4386-a5fe-f9275ee4a247",
   "metadata": {},
   "outputs": [
    {
     "data": {
      "text/plain": [
       "'I am 20 years old'"
      ]
     },
     "execution_count": 53,
     "metadata": {},
     "output_type": "execute_result"
    }
   ],
   "source": [
    "#format\n",
    "age = \"I am {} years old\"\n",
    "age.format(\"20\")"
   ]
  },
  {
   "cell_type": "code",
   "execution_count": 56,
   "id": "f5339651-bda8-494f-b1a9-842ced270e78",
   "metadata": {},
   "outputs": [
    {
     "name": "stdin",
     "output_type": "stream",
     "text": [
      "Enter your name: Pelumi\n"
     ]
    },
    {
     "name": "stdout",
     "output_type": "stream",
     "text": [
      "My name is Pelumi\n"
     ]
    }
   ],
   "source": [
    "#input\n",
    "Username= input(\"Enter your name:\")\n",
    "print(f\"My name is {Username}\")"
   ]
  },
  {
   "cell_type": "markdown",
   "id": "f7dc9b49-fc16-4436-9ecc-143d6d3bd3b9",
   "metadata": {},
   "source": [
    "#### Formatting strings\n",
    "1. String interpolation (f-string)\n",
    "2. Format()\n",
    "3. Old style using %"
   ]
  },
  {
   "cell_type": "code",
   "execution_count": 68,
   "id": "2fff450a-7adc-4597-8d7e-d78e799ded1f",
   "metadata": {},
   "outputs": [
    {
     "name": "stdout",
     "output_type": "stream",
     "text": [
      "my name is Bimmybrown, I am Female and I attend Unity school\n"
     ]
    }
   ],
   "source": [
    "#string interpolation\n",
    "Name = \"Bimmybrown\"\n",
    "Sex = \"Female\"\n",
    "School = \"Unity\"\n",
    "print(f\"my name is {Name}, I am {Sex} and I attend {School} school\")"
   ]
  },
  {
   "cell_type": "code",
   "execution_count": 69,
   "id": "f22c7be2-1c2f-4722-bdc1-e2b4db2f2d35",
   "metadata": {},
   "outputs": [
    {
     "data": {
      "text/plain": [
       "'my name is Bimmybrown, I am Female and I attend Unity school'"
      ]
     },
     "execution_count": 69,
     "metadata": {},
     "output_type": "execute_result"
    }
   ],
   "source": [
    "#format()\n",
    "profile = \"my name is {}, I am {} and I attend {} school\"\n",
    "profile.format(Name,Sex,School)\n",
    "\n",
    "\"my name is {}, I am {} and I attend {} school\".format(Name,Sex,School)"
   ]
  },
  {
   "cell_type": "code",
   "execution_count": 70,
   "id": "18826e4e-b492-446d-84ab-fe1c89ac0997",
   "metadata": {},
   "outputs": [
    {
     "data": {
      "text/plain": [
       "'my name is Bimmybrown, I am Female and I attend Unity school.'"
      ]
     },
     "execution_count": 70,
     "metadata": {},
     "output_type": "execute_result"
    }
   ],
   "source": [
    "#Old stlye using %\n",
    "\n",
    "profile = \"my name is %s, I am %s and I attend %s school.\" %(Name,Sex,School)\n",
    "profile"
   ]
  },
  {
   "cell_type": "code",
   "execution_count": null,
   "id": "7da9a8e5-6c42-48c7-8f7e-cf57b9ba4d55",
   "metadata": {},
   "outputs": [],
   "source": []
  }
 ],
 "metadata": {
  "kernelspec": {
   "display_name": "Python 3 (ipykernel)",
   "language": "python",
   "name": "python3"
  },
  "language_info": {
   "codemirror_mode": {
    "name": "ipython",
    "version": 3
   },
   "file_extension": ".py",
   "mimetype": "text/x-python",
   "name": "python",
   "nbconvert_exporter": "python",
   "pygments_lexer": "ipython3",
   "version": "3.12.4"
  }
 },
 "nbformat": 4,
 "nbformat_minor": 5
}
