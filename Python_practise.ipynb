{
 "cells": [
  {
   "cell_type": "markdown",
   "id": "097fd516-865c-444c-a0d3-33402406fdaa",
   "metadata": {},
   "source": [
    "# My Python_Guide"
   ]
  },
  {
   "cell_type": "markdown",
   "id": "03b8e6d0-450c-42b0-93b3-23de63a1f299",
   "metadata": {},
   "source": [
    "## Basic syntax"
   ]
  },
  {
   "cell_type": "markdown",
   "id": "01a6a1de-483c-4160-80d0-28f0646bb0ba",
   "metadata": {},
   "source": [
    "## Data Types"
   ]
  },
  {
   "cell_type": "markdown",
   "id": "3d969f67-8abf-4f7f-8883-de0216cb406a",
   "metadata": {},
   "source": [
    "### 1. Interger(int)"
   ]
  },
  {
   "cell_type": "markdown",
   "id": "23eacfa3-88d4-4b02-a744-7dab1978df4c",
   "metadata": {},
   "source": [
    "A whole number that can either be positive, negative, and do not contain any fractional part "
   ]
  },
  {
   "cell_type": "code",
   "execution_count": 2,
   "id": "7e6972bf-01ec-4610-a3e6-74646ac96c6a",
   "metadata": {},
   "outputs": [],
   "source": [
    "x = 2\n",
    "age = 16\n",
    "Temperature = -16"
   ]
  },
  {
   "cell_type": "markdown",
   "id": "8494eb47-d4e7-4457-ae75-9cdb3c66ccb3",
   "metadata": {},
   "source": [
    "### 2. Float"
   ]
  },
  {
   "cell_type": "markdown",
   "id": "da9e0c08-25d4-4e1d-a68d-9afa76a8195e",
   "metadata": {},
   "source": [
    "A float, or \"floating-point number,\" is a number that has a decimal point. It can represent both positive and negative numbers and is often used for precise calculations.\n",
    "\n",
    "Floats are used when more precision is needed than whole numbers can provide, such as in scientific calculations, measurements, and financial computations.\n",
    "\n"
   ]
  },
  {
   "cell_type": "code",
   "execution_count": 3,
   "id": "6b9687a6-68ae-49bd-a05e-443f943a58db",
   "metadata": {},
   "outputs": [],
   "source": [
    "pi = 3.143\n",
    "weight = 65.3"
   ]
  },
  {
   "cell_type": "markdown",
   "id": "5f24ac9f-70bc-4693-9eb8-20936abfe6b0",
   "metadata": {},
   "source": [
    "### 3. Strings"
   ]
  },
  {
   "cell_type": "markdown",
   "id": "694fd489-ce88-42b8-854f-77a35ad6b89b",
   "metadata": {},
   "source": [
    "A string is a sequence of characters enclosed in single (') or double (\") quotes. Strings are used to represent text data.\n",
    "\n",
    "Strings are used for handling text, such as names, addresses, or any other textual information. They are also used in user interfaces and input/output operations."
   ]
  },
  {
   "cell_type": "code",
   "execution_count": 6,
   "id": "bc8b4186-62ae-4d34-a494-89e502ba1172",
   "metadata": {},
   "outputs": [],
   "source": [
    "Name = \"Bimmybrown\"\n",
    "Sex = \"Female\"\n",
    "School = \"Unity\""
   ]
  },
  {
   "cell_type": "markdown",
   "id": "98d2d5cc-449a-4eb3-83e3-5f5d0ba3150a",
   "metadata": {},
   "source": [
    "#### Common string operations\n",
    "\n",
    "1. addition (+)\n",
    "2. repititive (*)\n",
    "3. Indexing - to access a particular character\n",
    "4. slicing - to extract a substring using slicing syntax [start:end:step]\n",
    "5. len() - to return the length of a string\n",
    "   "
   ]
  },
  {
   "cell_type": "code",
   "execution_count": 10,
   "id": "648cfb0c-39d0-4045-b5cf-e485102cc5d3",
   "metadata": {},
   "outputs": [
    {
     "data": {
      "text/plain": [
       "'Bimmybrown Female Unity'"
      ]
     },
     "execution_count": 10,
     "metadata": {},
     "output_type": "execute_result"
    }
   ],
   "source": [
    "# addition \n",
    "profile = Name+ \" \" +Sex+ \" \"+School\n",
    "profile"
   ]
  },
  {
   "cell_type": "code",
   "execution_count": 16,
   "id": "384861f5-c6af-459e-be1f-1dd1f83c880d",
   "metadata": {},
   "outputs": [
    {
     "data": {
      "text/plain": [
       "'BimmybrownBimmybrownBimmybrown'"
      ]
     },
     "execution_count": 16,
     "metadata": {},
     "output_type": "execute_result"
    }
   ],
   "source": [
    "#repititive\n",
    "name_on_repeat = Name*3\n",
    "name_on_repeat"
   ]
  },
  {
   "cell_type": "code",
   "execution_count": 19,
   "id": "925a04b6-3bf0-4ff0-8a88-9504f9002d12",
   "metadata": {},
   "outputs": [
    {
     "data": {
      "text/plain": [
       "'Bimmybrown Bimmybrown Bimmybrown '"
      ]
     },
     "execution_count": 19,
     "metadata": {},
     "output_type": "execute_result"
    }
   ],
   "source": [
    "#repititive with space\n",
    "name_on_repeat = (Name + \" \") *3\n",
    "name_on_repeat"
   ]
  },
  {
   "cell_type": "code",
   "execution_count": 27,
   "id": "0754f3b4-6d4f-40e8-9429-cc7fca392caa",
   "metadata": {},
   "outputs": [
    {
     "data": {
      "text/plain": [
       "'m'"
      ]
     },
     "execution_count": 27,
     "metadata": {},
     "output_type": "execute_result"
    }
   ],
   "source": [
    "#indexing\n",
    "Name[:3]\n",
    "Name[3]\n",
    "Name[:-3]\n",
    "Name[-3]"
   ]
  },
  {
   "cell_type": "code",
   "execution_count": 34,
   "id": "a3402642-2c05-47f6-8ac9-d1e20ded3573",
   "metadata": {},
   "outputs": [
    {
     "data": {
      "text/plain": [
       "'mmybrow'"
      ]
     },
     "execution_count": 34,
     "metadata": {},
     "output_type": "execute_result"
    }
   ],
   "source": [
    "#slicing \n",
    "Name[2:6] #start:end\n",
    "Name[2:9:2] # start:end:step\n",
    "Name[2:9:1] \n",
    "Name[2:9] "
   ]
  },
  {
   "cell_type": "markdown",
   "id": "49dddbdb-b5b3-4f1c-86a4-7a7ff565cc19",
   "metadata": {},
   "source": [
    "#### Common string methods\n",
    "1. string.upper() #to convert string characters to uppercase\n",
    "2. string.lower() #to convert string characters to lowercase\n",
    "3. string.capitalize() #to capitalize the first letter of a whole string\n",
    "4. string.title() #to capitalize the first letter of each strring\n",
    "5. string.find()  #to find a/some particular characters\n",
    "6. string.replace() #to replace a/some particular characters\n",
    "7. string.strip() #to remove trailing spaces\n",
    "8. string.rstrip() #to remove trailing spaces from the right\n",
    "9. string.lstrip() #to remove trailing spaces from the left\n",
    "10. string.split(\" \", ;)\n",
    "11. \" \".join(string) #to join two strings\n",
    "12. string.startswith()\n",
    "13. string.endswith()"
   ]
  },
  {
   "cell_type": "code",
   "execution_count": 48,
   "id": "ff67f89a-72c5-44e8-bc5c-8a6161a663c3",
   "metadata": {},
   "outputs": [],
   "source": [
    "Name = \"Bimmybrown\"\n",
    "Sex = \"Female\"\n",
    "School = \"Unity\"\n",
    "profile = \"Bimmybrown Female Unity\"\n",
    "name_on_repeat = \"Bimmybrown Bimmybrown Bimmybrown\" "
   ]
  },
  {
   "cell_type": "code",
   "execution_count": 47,
   "id": "df4c8fc9-5554-4f94-8930-3c64c0d82bd5",
   "metadata": {},
   "outputs": [
    {
     "data": {
      "text/plain": [
       "'Bimmybrown Female Unity'"
      ]
     },
     "execution_count": 47,
     "metadata": {},
     "output_type": "execute_result"
    }
   ],
   "source": [
    "#lower,upper, title and capitalize methods\n",
    "Name.lower()\n",
    "Name.upper()\n",
    "Name.capitalize()\n",
    "profile.lower()\n",
    "profile.capitalize()\n",
    "profile.title()"
   ]
  },
  {
   "cell_type": "code",
   "execution_count": 52,
   "id": "f8cc2092-27f6-4e8f-b9af-60d7e10e65a3",
   "metadata": {},
   "outputs": [
    {
     "data": {
      "text/plain": [
       "'Bimmybrowm'"
      ]
     },
     "execution_count": 52,
     "metadata": {},
     "output_type": "execute_result"
    }
   ],
   "source": [
    "#find and replace \n",
    "Name.find(\"m\")\n",
    "Name.replace(\"m\",\"n\")\n",
    "Name.replace(\"n\",\"m\")"
   ]
  },
  {
   "cell_type": "code",
   "execution_count": 62,
   "id": "683bf5f6-6b39-4cda-9972-f21287f8cebb",
   "metadata": {},
   "outputs": [
    {
     "data": {
      "text/plain": [
       "'Unity,Unity'"
      ]
     },
     "execution_count": 62,
     "metadata": {},
     "output_type": "execute_result"
    }
   ],
   "source": [
    "#split and join\n",
    "profile.split(\" \")\n",
    "\",\".join([School]*2)"
   ]
  },
  {
   "cell_type": "code",
   "execution_count": 71,
   "id": "954103d7-cf0d-4473-b2ac-acce3e3f8c8f",
   "metadata": {},
   "outputs": [
    {
     "data": {
      "text/plain": [
       "True"
      ]
     },
     "execution_count": 71,
     "metadata": {},
     "output_type": "execute_result"
    }
   ],
   "source": [
    "#startwith and endwith\n",
    "profile.startswith(\"Bimmybrown\")\n",
    "Name.endswith(\"n\")"
   ]
  },
  {
   "cell_type": "markdown",
   "id": "f7f35f32-ab21-49c3-bf5a-414bc5ec3e8e",
   "metadata": {},
   "source": [
    "#### Methods to Check String Properties"
   ]
  },
  {
   "cell_type": "code",
   "execution_count": null,
   "id": "350d9a40-b649-44cb-98a0-9ac843224caf",
   "metadata": {},
   "outputs": [],
   "source": []
  },
  {
   "cell_type": "code",
   "execution_count": null,
   "id": "b7abfd00-1267-434d-b734-a9af4310b11b",
   "metadata": {},
   "outputs": [],
   "source": []
  },
  {
   "cell_type": "code",
   "execution_count": null,
   "id": "7dca8c70-2bb6-4135-bada-23370a8014c9",
   "metadata": {},
   "outputs": [],
   "source": [
    "Interger, "
   ]
  }
 ],
 "metadata": {
  "kernelspec": {
   "display_name": "Python 3 (ipykernel)",
   "language": "python",
   "name": "python3"
  },
  "language_info": {
   "codemirror_mode": {
    "name": "ipython",
    "version": 3
   },
   "file_extension": ".py",
   "mimetype": "text/x-python",
   "name": "python",
   "nbconvert_exporter": "python",
   "pygments_lexer": "ipython3",
   "version": "3.12.4"
  }
 },
 "nbformat": 4,
 "nbformat_minor": 5
}
